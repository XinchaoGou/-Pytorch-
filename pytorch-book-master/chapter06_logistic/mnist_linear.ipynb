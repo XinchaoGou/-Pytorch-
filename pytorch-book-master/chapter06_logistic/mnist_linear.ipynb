{
 "cells": [
  {
   "cell_type": "markdown",
   "metadata": {},
   "source": [
    "# MNIST 数字识别"
   ]
  },
  {
   "cell_type": "code",
   "execution_count": 1,
   "metadata": {},
   "outputs": [],
   "source": [
    "import torch\n",
    "import torch.nn\n",
    "import torch.optim\n",
    "import torchvision.datasets\n",
    "import torchvision.transforms\n",
    "import torch.utils.data"
   ]
  },
  {
   "cell_type": "markdown",
   "metadata": {},
   "source": [
    "读取数据"
   ]
  },
  {
   "cell_type": "code",
   "execution_count": 2,
   "metadata": {},
   "outputs": [
    {
     "name": "stdout",
     "output_type": "stream",
     "text": [
      "Downloading http://yann.lecun.com/exdb/mnist/train-images-idx3-ubyte.gz\n",
      "Downloading http://yann.lecun.com/exdb/mnist/train-labels-idx1-ubyte.gz\n",
      "Downloading http://yann.lecun.com/exdb/mnist/t10k-images-idx3-ubyte.gz\n",
      "Downloading http://yann.lecun.com/exdb/mnist/t10k-labels-idx1-ubyte.gz\n",
      "Processing...\n",
      "Done!\n"
     ]
    }
   ],
   "source": [
    "train_dataset = torchvision.datasets.MNIST(root='./data/mnist',\n",
    "        train=True, transform=torchvision.transforms.ToTensor(),\n",
    "        download=True)\n",
    "test_dataset = torchvision.datasets.MNIST(root='./data/mnist',\n",
    "        train=False, transform=torchvision.transforms.ToTensor(),\n",
    "        download=True)"
   ]
  },
  {
   "cell_type": "code",
   "execution_count": 3,
   "metadata": {},
   "outputs": [
    {
     "name": "stdout",
     "output_type": "stream",
     "text": [
      "len(train_loader) = 600\n",
      "len(test_loader) = 100\n",
      "image.size() = torch.Size([100, 1, 28, 28])\n",
      "labels.size() = torch.Size([100])\n"
     ]
    }
   ],
   "source": [
    "batch_size = 100\n",
    "train_loader = torch.utils.data.DataLoader(\n",
    "        dataset=train_dataset, batch_size=batch_size)\n",
    "print('len(train_loader) = {}'.format(len(train_loader)))\n",
    "test_loader = torch.utils.data.DataLoader(\n",
    "        dataset=test_dataset, batch_size=batch_size)\n",
    "print('len(test_loader) = {}'.format(len(test_loader)))\n",
    "\n",
    "for images, labels in train_loader:\n",
    "    print ('image.size() = {}'.format(images.size()))\n",
    "    print ('labels.size() = {}'.format(labels.size()))\n",
    "    break"
   ]
  },
  {
   "cell_type": "code",
   "execution_count": 4,
   "metadata": {},
   "outputs": [
    {
     "data": {
      "text/plain": [
       "Text(0.5,1,'label = 5')"
      ]
     },
     "execution_count": 4,
     "metadata": {},
     "output_type": "execute_result"
    },
    {
     "data": {
      "image/png": "[encoded data removed]",
      "text/plain": [
       "<Figure size 432x288 with 1 Axes>"
      ]
     },
     "metadata": {},
     "output_type": "display_data"
    }
   ],
   "source": [
    "%matplotlib inline\n",
    "import matplotlib.pyplot as plt\n",
    "plt.imshow(images[0, 0], cmap='gray')\n",
    "plt.title('label = {}'.format(labels[0]))"
   ]
  },
  {
   "cell_type": "markdown",
   "metadata": {},
   "source": [
    "训练"
   ]
  },
  {
   "cell_type": "code",
   "execution_count": 5,
   "metadata": {},
   "outputs": [
    {
     "name": "stdout",
     "output_type": "stream",
     "text": [
      "第0趟第0批：loss = 2.30195\n",
      "第0趟第100批：loss = 0.752388\n",
      "第0趟第200批：loss = 0.688536\n",
      "第0趟第300批：loss = 0.567242\n",
      "第0趟第400批：loss = 0.405684\n",
      "第0趟第500批：loss = 0.438673\n",
      "第1趟第0批：loss = 0.336651\n",
      "第1趟第100批：loss = 0.349938\n",
      "第1趟第200批：loss = 0.426128\n",
      "第1趟第300批：loss = 0.35121\n",
      "第1趟第400批：loss = 0.3013\n",
      "第1趟第500批：loss = 0.366111\n",
      "第2趟第0批：loss = 0.269673\n",
      "第2趟第100批：loss = 0.302057\n",
      "第2趟第200批：loss = 0.361562\n",
      "第2趟第300批：loss = 0.297809\n",
      "第2趟第400批：loss = 0.273201\n",
      "第2趟第500批：loss = 0.341415\n",
      "第3趟第0批：loss = 0.239015\n",
      "第3趟第100批：loss = 0.282269\n",
      "第3趟第200批：loss = 0.327436\n",
      "第3趟第300批：loss = 0.27465\n",
      "第3趟第400批：loss = 0.260817\n",
      "第3趟第500批：loss = 0.327343\n",
      "第4趟第0批：loss = 0.221851\n",
      "第4趟第100批：loss = 0.272043\n",
      "第4趟第200批：loss = 0.305498\n",
      "第4趟第300批：loss = 0.261793\n",
      "第4趟第400批：loss = 0.25385\n",
      "第4趟第500批：loss = 0.317882\n"
     ]
    }
   ],
   "source": [
    "fc = torch.nn.Linear(28 * 28, 10)\n",
    "criterion = torch.nn.CrossEntropyLoss()\n",
    "optimizer = torch.optim.Adam(fc.parameters()) \n",
    "\n",
    "num_epochs = 5\n",
    "for epoch in range(num_epochs):\n",
    "    for idx, (images, labels) in enumerate(train_loader):\n",
    "        x = images.reshape(-1, 28*28)\n",
    "        \n",
    "        optimizer.zero_grad()\n",
    "        preds = fc(x)\n",
    "        loss = criterion(preds, labels)\n",
    "        loss.backward()\n",
    "        optimizer.step()\n",
    "        \n",
    "        if idx % 100 == 0:\n",
    "            print('第{}趟第{}批：loss = {:g}'.format(epoch, idx, loss))"
   ]
  },
  {
   "cell_type": "markdown",
   "metadata": {},
   "source": [
    "测试"
   ]
  },
  {
   "cell_type": "code",
   "execution_count": 6,
   "metadata": {},
   "outputs": [
    {
     "name": "stdout",
     "output_type": "stream",
     "text": [
      "测试集上的准确率：92.2%\n"
     ]
    }
   ],
   "source": [
    "correct = 0\n",
    "total = 0\n",
    "for images, labels in test_loader:\n",
    "    x = images.reshape(-1, 28 * 28)\n",
    "    preds = fc(x)\n",
    "    predicted = torch.argmax(preds, 1)\n",
    "    total += labels.size(0)\n",
    "    correct += (predicted == labels).sum().item()\n",
    "    \n",
    "accuracy = correct / total\n",
    "print('测试集上的准确率：{:.1%}'.format(accuracy))"
   ]
  }
 ],
 "metadata": {
  "kernelspec": {
   "display_name": "Python 3",
   "language": "python",
   "name": "python3"
  },
  "language_info": {
   "codemirror_mode": {
    "name": "ipython",
    "version": 3
   },
   "file_extension": ".py",
   "mimetype": "text/x-python",
   "name": "python",
   "nbconvert_exporter": "python",
   "pygments_lexer": "ipython3",
   "version": "3.6.5"
  }
 },
 "nbformat": 4,
 "nbformat_minor": 2
}
