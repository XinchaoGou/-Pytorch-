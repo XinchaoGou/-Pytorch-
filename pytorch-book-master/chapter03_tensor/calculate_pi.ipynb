{
 "cells": [
  {
   "cell_type": "markdown",
   "metadata": {},
   "source": [
    "# 用 Monte Carlo 计算圆周率 $\\pi$"
   ]
  },
  {
   "cell_type": "code",
   "execution_count": 1,
   "metadata": {},
   "outputs": [
    {
     "name": "stdout",
     "output_type": "stream",
     "text": [
      "pi = 3.141392707824707\n"
     ]
    }
   ],
   "source": [
    "import torch\n",
    "num_sample = 10000000\n",
    "sample = torch.rand(num_sample, 2)\n",
    "dist = sample.norm(p=2, dim=1)\n",
    "ratio = (dist < 1).float().mean()\n",
    "pi = ratio * 4\n",
    "print('pi = {}'.format(pi))"
   ]
  }
 ],
 "metadata": {
  "kernelspec": {
   "display_name": "Python 3",
   "language": "python",
   "name": "python3"
  },
  "language_info": {
   "codemirror_mode": {
    "name": "ipython",
    "version": 3
   },
   "file_extension": ".py",
   "mimetype": "text/x-python",
   "name": "python",
   "nbconvert_exporter": "python",
   "pygments_lexer": "ipython3",
   "version": "3.6.5"
  }
 },
 "nbformat": 4,
 "nbformat_minor": 2
}
